{
 "cells": [
  {
   "cell_type": "markdown",
   "id": "9b830a11",
   "metadata": {},
   "source": [
    "# Definir Variables de entorno necesarias para el repositorio"
   ]
  },
  {
   "cell_type": "code",
   "execution_count": null,
   "id": "2d8e2c08",
   "metadata": {},
   "outputs": [],
   "source": [
    "import os\n",
    "# Define the environment variables and their values\n",
    "variables = {\n",
    "    \"NODO\": os.getcwd(),\n",
    "}\n",
    "\n",
    "# Determine the shell configuration file to modify\n",
    "shell = os.environ.get(\"SHELL\", \"\")\n",
    "if \"zsh\" in shell:\n",
    "    config_file = os.path.expanduser(\"~/.zshrc\")\n",
    "else:\n",
    "    config_file = os.path.expanduser(\"~/.bashrc\")\n",
    "\n",
    "# Append the variables to the shell configuration file\n",
    "with open(config_file, \"a\") as file:\n",
    "    file.write(\"\\n# Added by Python script\\n\")\n",
    "    for var, value in variables.items():\n",
    "        file.write(f\"export {var}={value}\\n\")\n",
    "\n",
    "print(f\"Environment variables appended to {config_file}\")\n",
    "print('*'*65)\n",
    "print(\"\\033[93mRun in a terminal the following command to apply the changes:\\033[0m\")\n",
    "print()\n",
    "print(f\"\\033[94msource {config_file}\\033[0m\")"
   ]
  },
  {
   "cell_type": "markdown",
   "id": "19699ef7",
   "metadata": {},
   "source": [
    "Recuarda correr el la línea en azul para activar los cambios hechos!\n",
    "Alternativamente se puede correr:\n",
    "```bash\n",
    "source ~/.bashrc\n",
    "```"
   ]
  }
 ],
 "metadata": {
  "kernelspec": {
   "display_name": "sama",
   "language": "python",
   "name": "python3"
  },
  "language_info": {
   "codemirror_mode": {
    "name": "ipython",
    "version": 3
   },
   "file_extension": ".py",
   "mimetype": "text/x-python",
   "name": "python",
   "nbconvert_exporter": "python",
   "pygments_lexer": "ipython3",
   "version": "3.9.21"
  }
 },
 "nbformat": 4,
 "nbformat_minor": 5
}
